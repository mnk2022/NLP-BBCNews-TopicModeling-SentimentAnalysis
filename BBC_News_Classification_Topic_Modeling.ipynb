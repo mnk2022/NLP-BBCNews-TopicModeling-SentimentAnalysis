{
  "cells": [
    {
      "cell_type": "markdown",
      "metadata": {
        "id": "ape-jAEfbOha"
      },
      "source": [
        "## BBC News Reviews Classification Model - Sentiment Analysis\n",
        "\n",
        "Build a classification model using the **BBC News dataset** that is able to predict on a hold-out set the sentiment of the reviews with at minimum 92% accuracy. You can pick ONE of the topics to be your positive class, and label everything else to be negative. Ensure class imbalance is handled."
      ]
    },
    {
      "cell_type": "markdown",
      "metadata": {
        "id": "MZ8rp1QoJLBd"
      },
      "source": [
        "Git Cloning"
      ]
    },
    {
      "cell_type": "code",
      "execution_count": 1,
      "metadata": {
        "colab": {
          "base_uri": "https://localhost:8080/"
        },
        "id": "O5R6GZg0Ca_t",
        "outputId": "d43ee350-9f34-4e2a-9c7a-958b07cb6a92"
      },
      "outputs": [
        {
          "name": "stdout",
          "output_type": "stream",
          "text": [
            "Cloning into 'dso-560-nlp-text-analytics'...\n",
            "remote: Enumerating objects: 3206, done.\u001b[K\n",
            "remote: Total 3206 (delta 0), reused 0 (delta 0), pack-reused 3206\u001b[K\n",
            "Receiving objects: 100% (3206/3206), 95.46 MiB | 14.72 MiB/s, done.\n",
            "Resolving deltas: 100% (411/411), done.\n",
            "Checking out files: 100% (3186/3186), done.\n"
          ]
        }
      ],
      "source": [
        "!rm -rf dso-560-nlp-text-analytics && git clone https://github.com/ychennay/dso-560-nlp-text-analytics"
      ]
    },
    {
      "cell_type": "code",
      "execution_count": 2,
      "metadata": {
        "colab": {
          "base_uri": "https://localhost:8080/"
        },
        "id": "rHmfPkt6IK0K",
        "outputId": "afc57670-a1fc-4417-9a31-d0b80bba5003"
      },
      "outputs": [
        {
          "name": "stdout",
          "output_type": "stream",
          "text": [
            "/content/dso-560-nlp-text-analytics\n"
          ]
        }
      ],
      "source": [
        "%cd dso-560-nlp-text-analytics"
      ]
    },
    {
      "cell_type": "markdown",
      "metadata": {
        "id": "elRnhP84JT0y"
      },
      "source": [
        "Importing Packages"
      ]
    },
    {
      "cell_type": "code",
      "execution_count": 3,
      "metadata": {
        "colab": {
          "base_uri": "https://localhost:8080/"
        },
        "id": "r6cv_og2IK2V",
        "outputId": "b104edda-6623-4583-dff6-46920c31c2e9"
      },
      "outputs": [
        {
          "name": "stdout",
          "output_type": "stream",
          "text": [
            "[nltk_data] Downloading package stopwords to /root/nltk_data...\n",
            "[nltk_data]   Package stopwords is already up-to-date!\n",
            "[nltk_data] Downloading package punkt to /root/nltk_data...\n",
            "[nltk_data]   Package punkt is already up-to-date!\n",
            "[nltk_data] Downloading package averaged_perceptron_tagger to\n",
            "[nltk_data]     /root/nltk_data...\n",
            "[nltk_data]   Package averaged_perceptron_tagger is already up-to-\n",
            "[nltk_data]       date!\n",
            "[nltk_data] Downloading package wordnet to /root/nltk_data...\n",
            "[nltk_data]   Package wordnet is already up-to-date!\n"
          ]
        },
        {
          "data": {
            "text/plain": [
              "True"
            ]
          },
          "execution_count": 3,
          "metadata": {},
          "output_type": "execute_result"
        }
      ],
      "source": [
        "import pandas as pd\n",
        "import numpy as np\n",
        "import matplotlib.pyplot as plt\n",
        "import seaborn as sns\n",
        "from typing import List, Tuple\n",
        "import spacy\n",
        "import re\n",
        "import warnings\n",
        "warnings.filterwarnings(\"ignore\")\n",
        "\n",
        "from sklearn.model_selection import train_test_split\n",
        "from sklearn.metrics import accuracy_score\n",
        "from sklearn.metrics import confusion_matrix\n",
        "from sklearn.feature_extraction.text import TfidfVectorizer\n",
        "from sklearn.decomposition import NMF\n",
        "\n",
        "from keras.preprocessing.text import Tokenizer\n",
        "from keras.preprocessing.sequence import pad_sequences\n",
        "from keras.models import Sequential\n",
        "from keras.layers import Dense\n",
        "from keras.layers import Flatten\n",
        "from keras.layers import Embedding\n",
        "\n",
        "import nltk\n",
        "from nltk.corpus import stopwords\n",
        "nltk.download('stopwords')\n",
        "nltk.download('punkt')\n",
        "nltk.download('averaged_perceptron_tagger')\n",
        "nltk.download('wordnet')"
      ]
    },
    {
      "cell_type": "markdown",
      "metadata": {
        "id": "w_cHxiEGJa5M"
      },
      "source": [
        "Loading Corpus (BBC News data)"
      ]
    },
    {
      "cell_type": "code",
      "execution_count": 4,
      "metadata": {
        "id": "-uH91e9fCbMl"
      },
      "outputs": [],
      "source": [
        "def load_bbc_corpus(directory: str, topics: List[str], num_docs: int)-> pd.DataFrame:\n",
        "  articles: List[Tuple[str, str]] = [(f\"datasets/{directory}/{topic}/{str(i).zfill(3)}.txt\", topic) for i in range(1,num_docs + 1) for topic in TOPICS]\n",
        "\n",
        "  data = []\n",
        "  for article, topic in articles:\n",
        "      with open(article, encoding=\"latin1\") as article: # open each sports article\n",
        "        content = article.read()\n",
        "        data.append({\"topic\": topic, \"text\": content})\n",
        "\n",
        "  # generate a dataframe\n",
        "  df = pd.DataFrame(data)\n",
        "  df.text = df.text.apply(lambda text: text.replace(\"\\n\", \" \"))\n",
        "  return df"
      ]
    },
    {
      "cell_type": "code",
      "execution_count": 5,
      "metadata": {
        "colab": {
          "base_uri": "https://localhost:8080/",
          "height": 206
        },
        "id": "rUOw2mEuCbO6",
        "outputId": "66e27cde-ae5b-4cde-9d23-4781341d14a0"
      },
      "outputs": [
        {
          "data": {
            "text/html": [
              "\n",
              "  <div id=\"df-7caf12ec-55de-451a-aaca-c8207db2a43f\">\n",
              "    <div class=\"colab-df-container\">\n",
              "      <div>\n",
              "<style scoped>\n",
              "    .dataframe tbody tr th:only-of-type {\n",
              "        vertical-align: middle;\n",
              "    }\n",
              "\n",
              "    .dataframe tbody tr th {\n",
              "        vertical-align: top;\n",
              "    }\n",
              "\n",
              "    .dataframe thead th {\n",
              "        text-align: right;\n",
              "    }\n",
              "</style>\n",
              "<table border=\"1\" class=\"dataframe\">\n",
              "  <thead>\n",
              "    <tr style=\"text-align: right;\">\n",
              "      <th></th>\n",
              "      <th>topic</th>\n",
              "      <th>text</th>\n",
              "    </tr>\n",
              "  </thead>\n",
              "  <tbody>\n",
              "    <tr>\n",
              "      <th>0</th>\n",
              "      <td>business</td>\n",
              "      <td>Ad sales boost Time Warner profit  Quarterly p...</td>\n",
              "    </tr>\n",
              "    <tr>\n",
              "      <th>1</th>\n",
              "      <td>sport</td>\n",
              "      <td>Claxton hunting first major medal  British hur...</td>\n",
              "    </tr>\n",
              "    <tr>\n",
              "      <th>2</th>\n",
              "      <td>entertainment</td>\n",
              "      <td>Gallery unveils interactive tree  A Christmas ...</td>\n",
              "    </tr>\n",
              "    <tr>\n",
              "      <th>3</th>\n",
              "      <td>tech</td>\n",
              "      <td>Ink helps drive democracy in Asia  The Kyrgyz ...</td>\n",
              "    </tr>\n",
              "    <tr>\n",
              "      <th>4</th>\n",
              "      <td>politics</td>\n",
              "      <td>Labour plans maternity pay rise  Maternity pay...</td>\n",
              "    </tr>\n",
              "  </tbody>\n",
              "</table>\n",
              "</div>\n",
              "      <button class=\"colab-df-convert\" onclick=\"convertToInteractive('df-7caf12ec-55de-451a-aaca-c8207db2a43f')\"\n",
              "              title=\"Convert this dataframe to an interactive table.\"\n",
              "              style=\"display:none;\">\n",
              "        \n",
              "  <svg xmlns=\"http://www.w3.org/2000/svg\" height=\"24px\"viewBox=\"0 0 24 24\"\n",
              "       width=\"24px\">\n",
              "    <path d=\"M0 0h24v24H0V0z\" fill=\"none\"/>\n",
              "    <path d=\"M18.56 5.44l.94 2.06.94-2.06 2.06-.94-2.06-.94-.94-2.06-.94 2.06-2.06.94zm-11 1L8.5 8.5l.94-2.06 2.06-.94-2.06-.94L8.5 2.5l-.94 2.06-2.06.94zm10 10l.94 2.06.94-2.06 2.06-.94-2.06-.94-.94-2.06-.94 2.06-2.06.94z\"/><path d=\"M17.41 7.96l-1.37-1.37c-.4-.4-.92-.59-1.43-.59-.52 0-1.04.2-1.43.59L10.3 9.45l-7.72 7.72c-.78.78-.78 2.05 0 2.83L4 21.41c.39.39.9.59 1.41.59.51 0 1.02-.2 1.41-.59l7.78-7.78 2.81-2.81c.8-.78.8-2.07 0-2.86zM5.41 20L4 18.59l7.72-7.72 1.47 1.35L5.41 20z\"/>\n",
              "  </svg>\n",
              "      </button>\n",
              "      \n",
              "  <style>\n",
              "    .colab-df-container {\n",
              "      display:flex;\n",
              "      flex-wrap:wrap;\n",
              "      gap: 12px;\n",
              "    }\n",
              "\n",
              "    .colab-df-convert {\n",
              "      background-color: #E8F0FE;\n",
              "      border: none;\n",
              "      border-radius: 50%;\n",
              "      cursor: pointer;\n",
              "      display: none;\n",
              "      fill: #1967D2;\n",
              "      height: 32px;\n",
              "      padding: 0 0 0 0;\n",
              "      width: 32px;\n",
              "    }\n",
              "\n",
              "    .colab-df-convert:hover {\n",
              "      background-color: #E2EBFA;\n",
              "      box-shadow: 0px 1px 2px rgba(60, 64, 67, 0.3), 0px 1px 3px 1px rgba(60, 64, 67, 0.15);\n",
              "      fill: #174EA6;\n",
              "    }\n",
              "\n",
              "    [theme=dark] .colab-df-convert {\n",
              "      background-color: #3B4455;\n",
              "      fill: #D2E3FC;\n",
              "    }\n",
              "\n",
              "    [theme=dark] .colab-df-convert:hover {\n",
              "      background-color: #434B5C;\n",
              "      box-shadow: 0px 1px 3px 1px rgba(0, 0, 0, 0.15);\n",
              "      filter: drop-shadow(0px 1px 2px rgba(0, 0, 0, 0.3));\n",
              "      fill: #FFFFFF;\n",
              "    }\n",
              "  </style>\n",
              "\n",
              "      <script>\n",
              "        const buttonEl =\n",
              "          document.querySelector('#df-7caf12ec-55de-451a-aaca-c8207db2a43f button.colab-df-convert');\n",
              "        buttonEl.style.display =\n",
              "          google.colab.kernel.accessAllowed ? 'block' : 'none';\n",
              "\n",
              "        async function convertToInteractive(key) {\n",
              "          const element = document.querySelector('#df-7caf12ec-55de-451a-aaca-c8207db2a43f');\n",
              "          const dataTable =\n",
              "            await google.colab.kernel.invokeFunction('convertToInteractive',\n",
              "                                                     [key], {});\n",
              "          if (!dataTable) return;\n",
              "\n",
              "          const docLinkHtml = 'Like what you see? Visit the ' +\n",
              "            '<a target=\"_blank\" href=https://colab.research.google.com/notebooks/data_table.ipynb>data table notebook</a>'\n",
              "            + ' to learn more about interactive tables.';\n",
              "          element.innerHTML = '';\n",
              "          dataTable['output_type'] = 'display_data';\n",
              "          await google.colab.output.renderOutput(dataTable, element);\n",
              "          const docLink = document.createElement('div');\n",
              "          docLink.innerHTML = docLinkHtml;\n",
              "          element.appendChild(docLink);\n",
              "        }\n",
              "      </script>\n",
              "    </div>\n",
              "  </div>\n",
              "  "
            ],
            "text/plain": [
              "           topic                                               text\n",
              "0       business  Ad sales boost Time Warner profit  Quarterly p...\n",
              "1          sport  Claxton hunting first major medal  British hur...\n",
              "2  entertainment  Gallery unveils interactive tree  A Christmas ...\n",
              "3           tech  Ink helps drive democracy in Asia  The Kyrgyz ...\n",
              "4       politics  Labour plans maternity pay rise  Maternity pay..."
            ]
          },
          "execution_count": 5,
          "metadata": {},
          "output_type": "execute_result"
        }
      ],
      "source": [
        "documents = []\n",
        "TOPICS = [\"business\", \"sport\", \"entertainment\", \"tech\", \"politics\"]\n",
        "news_df = load_bbc_corpus(\"bbc\", TOPICS, num_docs=350)\n",
        "news_df.head()"
      ]
    },
    {
      "cell_type": "code",
      "execution_count": 6,
      "metadata": {
        "colab": {
          "base_uri": "https://localhost:8080/"
        },
        "id": "MZhaVf7mCbXV",
        "outputId": "f152a043-ad32-4a77-dc8e-53dc1e97ab72"
      },
      "outputs": [
        {
          "name": "stdout",
          "output_type": "stream",
          "text": [
            " Shape of dataset: (1750, 2)\n"
          ]
        }
      ],
      "source": [
        "print(f\" Shape of dataset: {news_df.shape}\")"
      ]
    },
    {
      "cell_type": "code",
      "execution_count": 7,
      "metadata": {
        "colab": {
          "base_uri": "https://localhost:8080/",
          "height": 345
        },
        "id": "vU40kfG4Jnc2",
        "outputId": "d2d52264-6af2-4ec9-b490-19bcd330f55e"
      },
      "outputs": [
        {
          "data": {
            "text/plain": [
              "<matplotlib.axes._subplots.AxesSubplot at 0x7fb6eb5f4390>"
            ]
          },
          "execution_count": 7,
          "metadata": {},
          "output_type": "execute_result"
        },
        {
          "data": {
            "image/png": "[encoded data removed]",
            "text/plain": [
              "<Figure size 432x288 with 1 Axes>"
            ]
          },
          "metadata": {
            "needs_background": "light"
          },
          "output_type": "display_data"
        }
      ],
      "source": [
        "news_df.topic.value_counts().plot(kind = 'bar')"
      ]
    },
    {
      "cell_type": "markdown",
      "metadata": {
        "id": "jaMfi3hMKhwb"
      },
      "source": [
        "Label Assignment"
      ]
    },
    {
      "cell_type": "code",
      "execution_count": 8,
      "metadata": {
        "colab": {
          "base_uri": "https://localhost:8080/",
          "height": 206
        },
        "id": "uDCFeYZRJvRO",
        "outputId": "0a633d86-d9f1-419d-af5e-a369d24d56a2"
      },
      "outputs": [
        {
          "data": {
            "text/html": [
              "\n",
              "  <div id=\"df-4e196c3f-15ff-4890-91e4-b0a431a7b71d\">\n",
              "    <div class=\"colab-df-container\">\n",
              "      <div>\n",
              "<style scoped>\n",
              "    .dataframe tbody tr th:only-of-type {\n",
              "        vertical-align: middle;\n",
              "    }\n",
              "\n",
              "    .dataframe tbody tr th {\n",
              "        vertical-align: top;\n",
              "    }\n",
              "\n",
              "    .dataframe thead th {\n",
              "        text-align: right;\n",
              "    }\n",
              "</style>\n",
              "<table border=\"1\" class=\"dataframe\">\n",
              "  <thead>\n",
              "    <tr style=\"text-align: right;\">\n",
              "      <th></th>\n",
              "      <th>topic</th>\n",
              "      <th>text</th>\n",
              "      <th>class</th>\n",
              "    </tr>\n",
              "  </thead>\n",
              "  <tbody>\n",
              "    <tr>\n",
              "      <th>0</th>\n",
              "      <td>business</td>\n",
              "      <td>Ad sales boost Time Warner profit  Quarterly p...</td>\n",
              "      <td>0</td>\n",
              "    </tr>\n",
              "    <tr>\n",
              "      <th>1</th>\n",
              "      <td>sport</td>\n",
              "      <td>Claxton hunting first major medal  British hur...</td>\n",
              "      <td>0</td>\n",
              "    </tr>\n",
              "    <tr>\n",
              "      <th>2</th>\n",
              "      <td>entertainment</td>\n",
              "      <td>Gallery unveils interactive tree  A Christmas ...</td>\n",
              "      <td>0</td>\n",
              "    </tr>\n",
              "    <tr>\n",
              "      <th>3</th>\n",
              "      <td>tech</td>\n",
              "      <td>Ink helps drive democracy in Asia  The Kyrgyz ...</td>\n",
              "      <td>1</td>\n",
              "    </tr>\n",
              "    <tr>\n",
              "      <th>4</th>\n",
              "      <td>politics</td>\n",
              "      <td>Labour plans maternity pay rise  Maternity pay...</td>\n",
              "      <td>0</td>\n",
              "    </tr>\n",
              "  </tbody>\n",
              "</table>\n",
              "</div>\n",
              "      <button class=\"colab-df-convert\" onclick=\"convertToInteractive('df-4e196c3f-15ff-4890-91e4-b0a431a7b71d')\"\n",
              "              title=\"Convert this dataframe to an interactive table.\"\n",
              "              style=\"display:none;\">\n",
              "        \n",
              "  <svg xmlns=\"http://www.w3.org/2000/svg\" height=\"24px\"viewBox=\"0 0 24 24\"\n",
              "       width=\"24px\">\n",
              "    <path d=\"M0 0h24v24H0V0z\" fill=\"none\"/>\n",
              "    <path d=\"M18.56 5.44l.94 2.06.94-2.06 2.06-.94-2.06-.94-.94-2.06-.94 2.06-2.06.94zm-11 1L8.5 8.5l.94-2.06 2.06-.94-2.06-.94L8.5 2.5l-.94 2.06-2.06.94zm10 10l.94 2.06.94-2.06 2.06-.94-2.06-.94-.94-2.06-.94 2.06-2.06.94z\"/><path d=\"M17.41 7.96l-1.37-1.37c-.4-.4-.92-.59-1.43-.59-.52 0-1.04.2-1.43.59L10.3 9.45l-7.72 7.72c-.78.78-.78 2.05 0 2.83L4 21.41c.39.39.9.59 1.41.59.51 0 1.02-.2 1.41-.59l7.78-7.78 2.81-2.81c.8-.78.8-2.07 0-2.86zM5.41 20L4 18.59l7.72-7.72 1.47 1.35L5.41 20z\"/>\n",
              "  </svg>\n",
              "      </button>\n",
              "      \n",
              "  <style>\n",
              "    .colab-df-container {\n",
              "      display:flex;\n",
              "      flex-wrap:wrap;\n",
              "      gap: 12px;\n",
              "    }\n",
              "\n",
              "    .colab-df-convert {\n",
              "      background-color: #E8F0FE;\n",
              "      border: none;\n",
              "      border-radius: 50%;\n",
              "      cursor: pointer;\n",
              "      display: none;\n",
              "      fill: #1967D2;\n",
              "      height: 32px;\n",
              "      padding: 0 0 0 0;\n",
              "      width: 32px;\n",
              "    }\n",
              "\n",
              "    .colab-df-convert:hover {\n",
              "      background-color: #E2EBFA;\n",
              "      box-shadow: 0px 1px 2px rgba(60, 64, 67, 0.3), 0px 1px 3px 1px rgba(60, 64, 67, 0.15);\n",
              "      fill: #174EA6;\n",
              "    }\n",
              "\n",
              "    [theme=dark] .colab-df-convert {\n",
              "      background-color: #3B4455;\n",
              "      fill: #D2E3FC;\n",
              "    }\n",
              "\n",
              "    [theme=dark] .colab-df-convert:hover {\n",
              "      background-color: #434B5C;\n",
              "      box-shadow: 0px 1px 3px 1px rgba(0, 0, 0, 0.15);\n",
              "      filter: drop-shadow(0px 1px 2px rgba(0, 0, 0, 0.3));\n",
              "      fill: #FFFFFF;\n",
              "    }\n",
              "  </style>\n",
              "\n",
              "      <script>\n",
              "        const buttonEl =\n",
              "          document.querySelector('#df-4e196c3f-15ff-4890-91e4-b0a431a7b71d button.colab-df-convert');\n",
              "        buttonEl.style.display =\n",
              "          google.colab.kernel.accessAllowed ? 'block' : 'none';\n",
              "\n",
              "        async function convertToInteractive(key) {\n",
              "          const element = document.querySelector('#df-4e196c3f-15ff-4890-91e4-b0a431a7b71d');\n",
              "          const dataTable =\n",
              "            await google.colab.kernel.invokeFunction('convertToInteractive',\n",
              "                                                     [key], {});\n",
              "          if (!dataTable) return;\n",
              "\n",
              "          const docLinkHtml = 'Like what you see? Visit the ' +\n",
              "            '<a target=\"_blank\" href=https://colab.research.google.com/notebooks/data_table.ipynb>data table notebook</a>'\n",
              "            + ' to learn more about interactive tables.';\n",
              "          element.innerHTML = '';\n",
              "          dataTable['output_type'] = 'display_data';\n",
              "          await google.colab.output.renderOutput(dataTable, element);\n",
              "          const docLink = document.createElement('div');\n",
              "          docLink.innerHTML = docLinkHtml;\n",
              "          element.appendChild(docLink);\n",
              "        }\n",
              "      </script>\n",
              "    </div>\n",
              "  </div>\n",
              "  "
            ],
            "text/plain": [
              "           topic                                               text  class\n",
              "0       business  Ad sales boost Time Warner profit  Quarterly p...      0\n",
              "1          sport  Claxton hunting first major medal  British hur...      0\n",
              "2  entertainment  Gallery unveils interactive tree  A Christmas ...      0\n",
              "3           tech  Ink helps drive democracy in Asia  The Kyrgyz ...      1\n",
              "4       politics  Labour plans maternity pay rise  Maternity pay...      0"
            ]
          },
          "execution_count": 8,
          "metadata": {},
          "output_type": "execute_result"
        }
      ],
      "source": [
        "news_df['class'] = news_df['topic'].apply(lambda x: 1 if x == \"tech\" else 0)\n",
        "news_df.head()"
      ]
    },
    {
      "cell_type": "code",
      "execution_count": 9,
      "metadata": {
        "colab": {
          "base_uri": "https://localhost:8080/"
        },
        "id": "UcepRRuzLP03",
        "outputId": "be650ba3-e109-447e-a830-a88aedba765f"
      },
      "outputs": [
        {
          "data": {
            "text/plain": [
              "0    1400\n",
              "1     350\n",
              "Name: class, dtype: int64"
            ]
          },
          "execution_count": 9,
          "metadata": {},
          "output_type": "execute_result"
        }
      ],
      "source": [
        "news_df['class'].value_counts()"
      ]
    },
    {
      "cell_type": "markdown",
      "metadata": {
        "id": "Hm3Ov479XH-r"
      },
      "source": [
        "Sampling Dataframes"
      ]
    },
    {
      "cell_type": "code",
      "execution_count": 10,
      "metadata": {
        "id": "Oi62rkb3Pbzr"
      },
      "outputs": [],
      "source": [
        "def pick_samples(topic1, topic2, topic3, topic4):\n",
        "  for i in range(4):\n",
        "    name = 'topic'+str(i)\n",
        "    df_temp = pd.DataFrame()\n",
        "    df_temp = news_df[news_df['topic'] == str(name)].sample(n=87, replace = False)\n",
        "    df_samp = df_samp.append(df_temp)\n",
        "    return df_samp"
      ]
    },
    {
      "cell_type": "code",
      "execution_count": 11,
      "metadata": {
        "id": "Zi_PUKt7R8fn"
      },
      "outputs": [],
      "source": [
        "# sampled_df = pick_samples(\"business\", \"sport\", \"entertainment\", \"politics\")"
      ]
    },
    {
      "cell_type": "code",
      "execution_count": 12,
      "metadata": {
        "colab": {
          "base_uri": "https://localhost:8080/"
        },
        "id": "2Uzh2dipUpri",
        "outputId": "194c08a6-0d35-46ca-f334-b70e34c06107"
      },
      "outputs": [
        {
          "name": "stdout",
          "output_type": "stream",
          "text": [
            "         topic                                               text  class\n",
            "770   business  Macy's owner buys rival for $11bn  US retail g...      0\n",
            "1395  business  Amex shares up on spin-off news  Shares in Ame...      0\n",
            "430   business  Worldcom boss 'left books alone'  Former World...      0\n",
            "190   business  Chinese wine tempts Italy's Illva  Italy's Ill...      0\n",
            "240   business  BMW cash to fuel Mini production  Less than fo...      0\n",
            "(348, 3)\n"
          ]
        }
      ],
      "source": [
        "biz_df = news_df[news_df['topic'] == 'business'].sample(n=87, replace = False, random_state = 101)\n",
        "sport_df = news_df[news_df['topic'] == 'sport'].sample(n=87, replace = False, random_state = 101)\n",
        "ent_df = news_df[news_df['topic'] == 'entertainment'].sample(n=87, replace = False, random_state = 101)\n",
        "polit_df = news_df[news_df['topic'] == 'politics'].sample(n=87, replace = False, random_state = 101)\n",
        "\n",
        "class_0_df = biz_df.append([sport_df, ent_df, polit_df])\n",
        "print(class_0_df.head())\n",
        "print(class_0_df.shape)"
      ]
    },
    {
      "cell_type": "code",
      "execution_count": 13,
      "metadata": {
        "colab": {
          "base_uri": "https://localhost:8080/"
        },
        "id": "A6QLWnxVW-hg",
        "outputId": "b2e0d02a-7000-48e6-dba0-d53a0fa75168"
      },
      "outputs": [
        {
          "name": "stdout",
          "output_type": "stream",
          "text": [
            "   topic                                               text  class\n",
            "3   tech  Ink helps drive democracy in Asia  The Kyrgyz ...      1\n",
            "8   tech  China net cafe culture crackdown  Chinese auth...      1\n",
            "13  tech  Microsoft seeking spyware trojan  Microsoft is...      1\n",
            "18  tech  Digital guru floats sub-$100 PC  Nicholas Negr...      1\n",
            "23  tech  Technology gets the creative bug  The hi-tech ...      1\n",
            "(348, 3)\n"
          ]
        }
      ],
      "source": [
        "class_1_df = news_df[news_df['class'] == 1]\n",
        "drop_indices = np.random.choice(class_1_df.index, 2, replace = False)\n",
        "class_1_df.drop(drop_indices, inplace = True)\n",
        "print(class_1_df.head())\n",
        "print(class_1_df.shape)"
      ]
    },
    {
      "cell_type": "code",
      "execution_count": 14,
      "metadata": {
        "colab": {
          "base_uri": "https://localhost:8080/"
        },
        "id": "Dbx2Xb7uZXqW",
        "outputId": "18826366-acfe-420a-f97a-64d5e4ada5c5"
      },
      "outputs": [
        {
          "data": {
            "text/plain": [
              "(696, 3)"
            ]
          },
          "execution_count": 14,
          "metadata": {},
          "output_type": "execute_result"
        }
      ],
      "source": [
        "news_df_final = class_1_df.append(class_0_df)\n",
        "#news_df_final.sample(frac = 1)\n",
        "news_df_final.shape"
      ]
    },
    {
      "cell_type": "markdown",
      "metadata": {
        "id": "226lBSgGgzdz"
      },
      "source": [
        "Creating Docs"
      ]
    },
    {
      "cell_type": "code",
      "execution_count": 15,
      "metadata": {
        "id": "RWmyZ8agf2Mg"
      },
      "outputs": [],
      "source": [
        "class0_text = [i for i in news_df_final[news_df_final['class']==0].text]\n",
        "class1_text = [i for i in news_df_final[news_df_final['class']==1].text]\n",
        "docs = class0_text + class1_text"
      ]
    },
    {
      "cell_type": "markdown",
      "metadata": {
        "id": "zClQHZlqgwme"
      },
      "source": [
        "Creating Labels"
      ]
    },
    {
      "cell_type": "code",
      "execution_count": 16,
      "metadata": {
        "id": "bo3Wr5-Tf2KD"
      },
      "outputs": [],
      "source": [
        "labels = np.concatenate([np.zeros(348), np.ones(348)])"
      ]
    },
    {
      "cell_type": "markdown",
      "metadata": {
        "id": "3x7pauZXcB6n"
      },
      "source": [
        "Removing Stopwords"
      ]
    },
    {
      "cell_type": "code",
      "execution_count": 17,
      "metadata": {
        "id": "rQKccfUNb5bo"
      },
      "outputs": [],
      "source": [
        "nlp = spacy.load('en_core_web_sm', disable=[\"ner\", \"pos\", \"tagger\"])\n",
        "stopwords_cleaned_docs = list(\n",
        "    map(lambda doc: \" \".join([token.text for token in nlp(doc) if not token.is_stop]), docs))"
      ]
    },
    {
      "cell_type": "code",
      "execution_count": 18,
      "metadata": {
        "colab": {
          "base_uri": "https://localhost:8080/",
          "height": 142
        },
        "id": "5mu-D-fEhsSD",
        "outputId": "73ca5818-8977-4216-bb86-1d9b5760029a"
      },
      "outputs": [
        {
          "data": {
            "application/vnd.google.colaboratory.intrinsic+json": {
              "type": "string"
            },
            "text/plain": [
              "'Worldcom boss \\' left books \\'   Worldcom boss Bernie Ebbers , accused overseeing $ 11bn ( Â£5.8bn ) fraud , accounting decisions , witness told jurors .   David Myers comments questioning defence lawyers arguing Mr Ebbers responsible Worldcom problems . phone company collapsed 2002 prosecutors claim losses hidden protect firm shares . Mr Myers pleaded guilty fraud assisting prosecutors .   Monday , defence lawyer Reid Weingarten tried distance client allegations . cross examination , asked Mr Myers knew Mr Ebbers \" accounting decision ? \" . \" aware , \" Mr Myers replied . \" know Mr Ebbers accounting entry Worldcom books ? \" Mr Weingarten pressed . \" , \" replied witness . Mr Myers admitted ordered false accounting entries request Worldcom chief financial officer Scott Sullivan . Defence lawyers trying paint Mr Sullivan , admitted fraud testify later trial , mastermind Worldcom accounting house cards .   Mr Ebbers \\' team , , looking portray affable boss , admission PE graduate economist . abilities , Mr Ebbers transformed Worldcom relative unknown $ 160bn telecoms giant investor darling late 1990s . Worldcom problems mounted , , competition increased telecoms boom petered . firm finally collapsed , shareholders lost $ 180bn 20,000 workers lost jobs . Mr Ebbers \\' trial expected months found guilty CEO faces substantial jail sentence . firmly declared innocence .'"
            ]
          },
          "execution_count": 18,
          "metadata": {},
          "output_type": "execute_result"
        }
      ],
      "source": [
        "stopwords_cleaned_docs[2]"
      ]
    },
    {
      "cell_type": "markdown",
      "metadata": {
        "id": "Dg7KtxQ_kugS"
      },
      "source": [
        "Data Cleaning"
      ]
    },
    {
      "cell_type": "code",
      "execution_count": 19,
      "metadata": {
        "id": "-rkdA5_vknha"
      },
      "outputs": [],
      "source": [
        "def clean(review_text):\n",
        "    review_text = str(review_text).lower() # convert to lowercase\n",
        "    #review_text = re.sub('\\[.*?\\]', '', review_text)\n",
        "    review_text = re.sub('https?://\\S+|www\\.\\S+', '', review_text) # Remove URls\n",
        "    review_text = re.sub('<.*?>+', '', review_text)\n",
        "    review_text = re.sub(r'[^a-z0-9\\s]', '', review_text) # Remove punctuation\n",
        "    review_text = re.sub('\\n', '', review_text)\n",
        "    review_text = re.sub('\\w*\\d\\w*', '', review_text)\n",
        "\n",
        "    review_text = re.sub('\\s+',' ', review_text) #replace_multiple_spaces_with_single_space\n",
        "    return(review_text)"
      ]
    },
    {
      "cell_type": "markdown",
      "metadata": {
        "id": "c5J70LColXr5"
      },
      "source": [
        "Tokenizing"
      ]
    },
    {
      "cell_type": "code",
      "execution_count": 20,
      "metadata": {
        "id": "sWyNXHOVknaq"
      },
      "outputs": [],
      "source": [
        "tokenizer = Tokenizer(num_words=5555, oov_token=\"UNKNOWN_TOKEN\")\n",
        "tokenizer.fit_on_texts(stopwords_cleaned_docs)"
      ]
    },
    {
      "cell_type": "code",
      "execution_count": 21,
      "metadata": {
        "colab": {
          "base_uri": "https://localhost:8080/"
        },
        "id": "GcEIFxOBl5nu",
        "outputId": "d297f261-6365-4306-d002-8b854759a421"
      },
      "outputs": [
        {
          "name": "stdout",
          "output_type": "stream",
          "text": [
            "Vocab size is 22449 unique tokens.\n"
          ]
        }
      ],
      "source": [
        "vocab_size = int(len(tokenizer.word_index) * 1.3)\n",
        "print(f\"Vocab size is {vocab_size} unique tokens.\")"
      ]
    },
    {
      "cell_type": "markdown",
      "metadata": {
        "id": "lWeu0Yxhmn1D"
      },
      "source": [
        "Integer Encoding the Documents"
      ]
    },
    {
      "cell_type": "code",
      "execution_count": 22,
      "metadata": {
        "id": "H7QHDK8Yl5lB"
      },
      "outputs": [],
      "source": [
        "def integer_encode_documents(docs, tokenizer):\n",
        "    return tokenizer.texts_to_sequences(docs)"
      ]
    },
    {
      "cell_type": "code",
      "execution_count": 23,
      "metadata": {
        "id": "CV4VhTzfl5ig"
      },
      "outputs": [],
      "source": [
        "# integer encode the documents\n",
        "encoded_docs = integer_encode_documents(stopwords_cleaned_docs, tokenizer)"
      ]
    },
    {
      "cell_type": "code",
      "execution_count": 24,
      "metadata": {
        "colab": {
          "base_uri": "https://localhost:8080/",
          "height": 295
        },
        "id": "J2rNrLF3l5bE",
        "outputId": "4b141b16-be20-4249-c8d5-a8fe52d05966"
      },
      "outputs": [
        {
          "data": {
            "image/png": "[encoded data removed]",
            "text/plain": [
              "<Figure size 432x288 with 1 Axes>"
            ]
          },
          "metadata": {
            "needs_background": "light"
          },
          "output_type": "display_data"
        }
      ],
      "source": [
        "plt.hist(list(map(lambda doc: len(doc), encoded_docs)))\n",
        "plt.xlabel('Length of Documents')\n",
        "plt.ylabel('Encoded Documents')\n",
        "plt.title('Integer Encoding')\n",
        "plt.show()"
      ]
    },
    {
      "cell_type": "markdown",
      "metadata": {
        "id": "iPYlyXxmo5mR"
      },
      "source": [
        "Finding Maximum Length of Documents"
      ]
    },
    {
      "cell_type": "code",
      "execution_count": 25,
      "metadata": {
        "id": "SPnBz2qCl5Ye"
      },
      "outputs": [],
      "source": [
        "def get_max_token_length_per_doc(docs: List[str])-> int:\n",
        "    return max(list(map(lambda x: len(x.split()), docs)))"
      ]
    },
    {
      "cell_type": "code",
      "execution_count": 26,
      "metadata": {
        "id": "oiYoa_4il5Vs"
      },
      "outputs": [],
      "source": [
        "def get_max_token_length_per_doc(docs: List[str], tokenizer)-> int:\n",
        "  return max(list(map(lambda doc: len(doc), tokenizer.texts_to_sequences(docs))))"
      ]
    },
    {
      "cell_type": "code",
      "execution_count": 27,
      "metadata": {
        "colab": {
          "base_uri": "https://localhost:8080/"
        },
        "id": "ri5NxBPhpuSf",
        "outputId": "f32592e3-1c56-4261-fd23-8a3c1acdc4b7"
      },
      "outputs": [
        {
          "data": {
            "text/plain": [
              "2446"
            ]
          },
          "execution_count": 27,
          "metadata": {},
          "output_type": "execute_result"
        }
      ],
      "source": [
        "# get the max length in terms of token length\n",
        "max_length1 = get_max_token_length_per_doc(docs, tokenizer)\n",
        "max_length1"
      ]
    },
    {
      "cell_type": "code",
      "execution_count": 28,
      "metadata": {
        "colab": {
          "base_uri": "https://localhost:8080/"
        },
        "id": "ZWDRR7ywpuQK",
        "outputId": "0e7280a1-0e1a-446b-d5c3-d4013e730210"
      },
      "outputs": [
        {
          "data": {
            "text/plain": [
              "1169"
            ]
          },
          "execution_count": 28,
          "metadata": {},
          "output_type": "execute_result"
        }
      ],
      "source": [
        "# get the max length in terms of token length\n",
        "max_length2 = get_max_token_length_per_doc(stopwords_cleaned_docs, tokenizer)\n",
        "max_length2"
      ]
    },
    {
      "cell_type": "markdown",
      "metadata": {
        "id": "ih7Q8FwNqbXh"
      },
      "source": [
        "Pad Documents to Maximum Length "
      ]
    },
    {
      "cell_type": "code",
      "execution_count": 29,
      "metadata": {
        "colab": {
          "base_uri": "https://localhost:8080/"
        },
        "id": "zV5KSOrjpuNk",
        "outputId": "4d16fe5f-6a0b-4be1-fc93-67c9b3869723"
      },
      "outputs": [
        {
          "data": {
            "text/plain": [
              "array([2048,  596,    7, ...,    0,    0,    0], dtype=int32)"
            ]
          },
          "execution_count": 29,
          "metadata": {},
          "output_type": "execute_result"
        }
      ],
      "source": [
        "padded_docs = pad_sequences(encoded_docs, maxlen = max_length2, padding='post')\n",
        "padded_docs[2]"
      ]
    },
    {
      "cell_type": "markdown",
      "metadata": {
        "id": "Cv1HMiaWq_ts"
      },
      "source": [
        "Defining an Embedded size"
      ]
    },
    {
      "cell_type": "code",
      "execution_count": 30,
      "metadata": {
        "id": "TbxkfJ4wpuLM"
      },
      "outputs": [],
      "source": [
        "EMBEDDING_SIZE = 120"
      ]
    },
    {
      "cell_type": "markdown",
      "metadata": {
        "id": "7C9OkKQHsrRG"
      },
      "source": [
        "Train Test Split"
      ]
    },
    {
      "cell_type": "code",
      "execution_count": 31,
      "metadata": {
        "id": "F9S1R4ntst0c"
      },
      "outputs": [],
      "source": [
        "X_train, X_test, y_train, y_test = train_test_split(padded_docs,\n",
        "                                                    labels, \n",
        "                                                    test_size=0.3,\n",
        "                                                    stratify=labels)"
      ]
    },
    {
      "cell_type": "markdown",
      "metadata": {
        "id": "djYI_fgtrOaB"
      },
      "source": [
        "Defining and Compiling the model"
      ]
    },
    {
      "cell_type": "code",
      "execution_count": 32,
      "metadata": {
        "colab": {
          "base_uri": "https://localhost:8080/"
        },
        "id": "XHJA4DAqpuJB",
        "outputId": "f3764c76-3253-42cb-c00d-e8e4deda35ab"
      },
      "outputs": [
        {
          "name": "stdout",
          "output_type": "stream",
          "text": [
            "Model: \"sequential\"\n",
            "_________________________________________________________________\n",
            " Layer (type)                Output Shape              Param #   \n",
            "=================================================================\n",
            " embedding (Embedding)       (None, 1169, 120)         2693880   \n",
            "                                                                 \n",
            " flatten (Flatten)           (None, 140280)            0         \n",
            "                                                                 \n",
            " dense (Dense)               (None, 1)                 140281    \n",
            "                                                                 \n",
            "=================================================================\n",
            "Total params: 2,834,161\n",
            "Trainable params: 2,834,161\n",
            "Non-trainable params: 0\n",
            "_________________________________________________________________\n"
          ]
        }
      ],
      "source": [
        "# define the model\n",
        "model = Sequential()\n",
        "model.add(Embedding(vocab_size, EMBEDDING_SIZE, input_length=max_length2))\n",
        "model.add(Flatten()) \n",
        "\n",
        "model.add(Dense(1, activation='sigmoid')) \n",
        "model.compile(optimizer='adam', loss='binary_crossentropy', metrics=['acc'])\n",
        "\n",
        "# summarize the model\n",
        "model.summary()"
      ]
    },
    {
      "cell_type": "markdown",
      "metadata": {
        "id": "N13UTNA5rd9B"
      },
      "source": [
        "Fitting the model"
      ]
    },
    {
      "cell_type": "code",
      "execution_count": 33,
      "metadata": {
        "colab": {
          "base_uri": "https://localhost:8080/"
        },
        "id": "Vvjuh_CmrfN8",
        "outputId": "5644a55b-7a68-49c4-f63d-38680f022880"
      },
      "outputs": [
        {
          "name": "stdout",
          "output_type": "stream",
          "text": [
            "Epoch 1/25\n",
            "16/16 [==============================] - 2s 54ms/step - loss: 0.7726 - acc: 0.5462\n",
            "Epoch 2/25\n",
            "16/16 [==============================] - 1s 51ms/step - loss: 0.5053 - acc: 0.7515\n",
            "Epoch 3/25\n",
            "16/16 [==============================] - 1s 52ms/step - loss: 0.2464 - acc: 0.9733\n",
            "Epoch 4/25\n",
            "16/16 [==============================] - 1s 51ms/step - loss: 0.1031 - acc: 0.9897\n",
            "Epoch 5/25\n",
            "16/16 [==============================] - 1s 66ms/step - loss: 0.0395 - acc: 1.0000\n",
            "Epoch 6/25\n",
            "16/16 [==============================] - 1s 64ms/step - loss: 0.0192 - acc: 1.0000\n",
            "Epoch 7/25\n",
            "16/16 [==============================] - 1s 50ms/step - loss: 0.0119 - acc: 1.0000\n",
            "Epoch 8/25\n",
            "16/16 [==============================] - 1s 53ms/step - loss: 0.0082 - acc: 1.0000\n",
            "Epoch 9/25\n",
            "16/16 [==============================] - 1s 53ms/step - loss: 0.0063 - acc: 1.0000\n",
            "Epoch 10/25\n",
            "16/16 [==============================] - 1s 50ms/step - loss: 0.0050 - acc: 1.0000\n",
            "Epoch 11/25\n",
            "16/16 [==============================] - 1s 50ms/step - loss: 0.0041 - acc: 1.0000\n",
            "Epoch 12/25\n",
            "16/16 [==============================] - 1s 50ms/step - loss: 0.0034 - acc: 1.0000\n",
            "Epoch 13/25\n",
            "16/16 [==============================] - 1s 52ms/step - loss: 0.0029 - acc: 1.0000\n",
            "Epoch 14/25\n",
            "16/16 [==============================] - 1s 50ms/step - loss: 0.0025 - acc: 1.0000\n",
            "Epoch 15/25\n",
            "16/16 [==============================] - 1s 50ms/step - loss: 0.0022 - acc: 1.0000\n",
            "Epoch 16/25\n",
            "16/16 [==============================] - 1s 52ms/step - loss: 0.0019 - acc: 1.0000\n",
            "Epoch 17/25\n",
            "16/16 [==============================] - 1s 51ms/step - loss: 0.0017 - acc: 1.0000\n",
            "Epoch 18/25\n",
            "16/16 [==============================] - 1s 51ms/step - loss: 0.0015 - acc: 1.0000\n",
            "Epoch 19/25\n",
            "16/16 [==============================] - 1s 50ms/step - loss: 0.0014 - acc: 1.0000\n",
            "Epoch 20/25\n",
            "16/16 [==============================] - 1s 51ms/step - loss: 0.0012 - acc: 1.0000\n",
            "Epoch 21/25\n",
            "16/16 [==============================] - 1s 50ms/step - loss: 0.0011 - acc: 1.0000\n",
            "Epoch 22/25\n",
            "16/16 [==============================] - 1s 49ms/step - loss: 0.0010 - acc: 1.0000\n",
            "Epoch 23/25\n",
            "16/16 [==============================] - 1s 50ms/step - loss: 9.3712e-04 - acc: 1.0000\n",
            "Epoch 24/25\n",
            "16/16 [==============================] - 1s 50ms/step - loss: 8.6640e-04 - acc: 1.0000\n",
            "Epoch 25/25\n",
            "16/16 [==============================] - 1s 49ms/step - loss: 8.0164e-04 - acc: 1.0000\n",
            "7/7 [==============================] - 0s 9ms/step - loss: 0.0593 - acc: 0.9761\n",
            "Accuracy: 97.607654\n"
          ]
        }
      ],
      "source": [
        "# fit the model\n",
        "model.fit(X_train, y_train, epochs=25, verbose=1)\n",
        "# evaluate the model\n",
        "loss, accuracy = model.evaluate(X_test, y_test, verbose=1)\n",
        "print('Accuracy: %f' % (accuracy*100))"
      ]
    },
    {
      "cell_type": "markdown",
      "metadata": {
        "id": "xc6kydrBb2kE"
      },
      "source": [
        "Evalauting the model"
      ]
    },
    {
      "cell_type": "code",
      "execution_count": 34,
      "metadata": {
        "colab": {
          "base_uri": "https://localhost:8080/"
        },
        "id": "NEqm7cnTb2NQ",
        "outputId": "b5d8e603-07ca-41a0-d6e9-4e5abb856856"
      },
      "outputs": [
        {
          "name": "stdout",
          "output_type": "stream",
          "text": [
            "Accuracy: 98.0%\n"
          ]
        }
      ],
      "source": [
        "# Predicting on test data\n",
        "y_pred = np.where(model.predict(X_test)[:]>=0.5,1,0)\n",
        "# Evaluate the model\n",
        "score = accuracy_score(y_test,y_pred)\n",
        "print(f'Accuracy: {round(score,2)*100}%')"
      ]
    },
    {
      "cell_type": "markdown",
      "metadata": {
        "id": "9NXyAk5zcq9w"
      },
      "source": [
        "Confusion Matrix"
      ]
    },
    {
      "cell_type": "code",
      "execution_count": 35,
      "metadata": {
        "colab": {
          "base_uri": "https://localhost:8080/",
          "height": 337
        },
        "id": "cknxmfOocn2G",
        "outputId": "1f10deaf-e253-43ad-df27-1f9e44973083"
      },
      "outputs": [
        {
          "data": {
            "image/png": "[encoded data removed]",
            "text/plain": [
              "<Figure size 432x288 with 2 Axes>"
            ]
          },
          "metadata": {
            "needs_background": "light"
          },
          "output_type": "display_data"
        }
      ],
      "source": [
        "# Generate the confusion matrix\n",
        "conf_matrix = confusion_matrix(y_test, y_pred)\n",
        "ax = sns.heatmap(conf_matrix, annot=True)\n",
        "\n",
        "ax.set_title('Confusion Matrix\\n\\n');\n",
        "ax.set_xlabel('\\nPredicted Values')\n",
        "ax.set_ylabel('Actual Values ');\n",
        "\n",
        "## Ticket labels - List must be in alphabetical order\n",
        "ax.xaxis.set_ticklabels(['0','1'])\n",
        "ax.yaxis.set_ticklabels(['0','1'])\n",
        "\n",
        "## Display the visualization of the Confusion Matrix.\n",
        "plt.show()"
      ]
    },
    {
      "cell_type": "markdown",
      "metadata": {
        "id": "dM_r-kiycojv"
      },
      "source": [
        "## Topic Modelling\n",
        "\n",
        "Perform topic modelling on the `news_categories.csv` dataset. This dataset is from [News Category Dataset, Akash Gupta](https://www.kaggle.com/datasets/akash14/news-category-dataset)"
      ]
    },
    {
      "cell_type": "code",
      "execution_count": 36,
      "metadata": {
        "id": "1SFP9UAuQL3h"
      },
      "outputs": [],
      "source": [
        "news=pd.read_csv('datasets/news_categories.csv',encoding='latin1')"
      ]
    },
    {
      "cell_type": "code",
      "execution_count": 37,
      "metadata": {
        "colab": {
          "base_uri": "https://localhost:8080/",
          "height": 206
        },
        "id": "a8noo8YvQse5",
        "outputId": "f3f6695d-acf9-4e64-d7f4-d339224517c0"
      },
      "outputs": [
        {
          "data": {
            "text/html": [
              "\n",
              "  <div id=\"df-c6787f6e-b22c-416a-805f-903c9d8e889f\">\n",
              "    <div class=\"colab-df-container\">\n",
              "      <div>\n",
              "<style scoped>\n",
              "    .dataframe tbody tr th:only-of-type {\n",
              "        vertical-align: middle;\n",
              "    }\n",
              "\n",
              "    .dataframe tbody tr th {\n",
              "        vertical-align: top;\n",
              "    }\n",
              "\n",
              "    .dataframe thead th {\n",
              "        text-align: right;\n",
              "    }\n",
              "</style>\n",
              "<table border=\"1\" class=\"dataframe\">\n",
              "  <thead>\n",
              "    <tr style=\"text-align: right;\">\n",
              "      <th></th>\n",
              "      <th>STORY</th>\n",
              "      <th>SECTION</th>\n",
              "    </tr>\n",
              "  </thead>\n",
              "  <tbody>\n",
              "    <tr>\n",
              "      <th>0</th>\n",
              "      <td>But the most painful was the huge reversal in ...</td>\n",
              "      <td>3</td>\n",
              "    </tr>\n",
              "    <tr>\n",
              "      <th>1</th>\n",
              "      <td>How formidable is the opposition alliance amon...</td>\n",
              "      <td>0</td>\n",
              "    </tr>\n",
              "    <tr>\n",
              "      <th>2</th>\n",
              "      <td>Most Asian currencies were trading lower today...</td>\n",
              "      <td>3</td>\n",
              "    </tr>\n",
              "    <tr>\n",
              "      <th>3</th>\n",
              "      <td>If you want to answer any question, click on ...</td>\n",
              "      <td>1</td>\n",
              "    </tr>\n",
              "    <tr>\n",
              "      <th>4</th>\n",
              "      <td>In global markets, gold prices edged up today ...</td>\n",
              "      <td>3</td>\n",
              "    </tr>\n",
              "  </tbody>\n",
              "</table>\n",
              "</div>\n",
              "      <button class=\"colab-df-convert\" onclick=\"convertToInteractive('df-c6787f6e-b22c-416a-805f-903c9d8e889f')\"\n",
              "              title=\"Convert this dataframe to an interactive table.\"\n",
              "              style=\"display:none;\">\n",
              "        \n",
              "  <svg xmlns=\"http://www.w3.org/2000/svg\" height=\"24px\"viewBox=\"0 0 24 24\"\n",
              "       width=\"24px\">\n",
              "    <path d=\"M0 0h24v24H0V0z\" fill=\"none\"/>\n",
              "    <path d=\"M18.56 5.44l.94 2.06.94-2.06 2.06-.94-2.06-.94-.94-2.06-.94 2.06-2.06.94zm-11 1L8.5 8.5l.94-2.06 2.06-.94-2.06-.94L8.5 2.5l-.94 2.06-2.06.94zm10 10l.94 2.06.94-2.06 2.06-.94-2.06-.94-.94-2.06-.94 2.06-2.06.94z\"/><path d=\"M17.41 7.96l-1.37-1.37c-.4-.4-.92-.59-1.43-.59-.52 0-1.04.2-1.43.59L10.3 9.45l-7.72 7.72c-.78.78-.78 2.05 0 2.83L4 21.41c.39.39.9.59 1.41.59.51 0 1.02-.2 1.41-.59l7.78-7.78 2.81-2.81c.8-.78.8-2.07 0-2.86zM5.41 20L4 18.59l7.72-7.72 1.47 1.35L5.41 20z\"/>\n",
              "  </svg>\n",
              "      </button>\n",
              "      \n",
              "  <style>\n",
              "    .colab-df-container {\n",
              "      display:flex;\n",
              "      flex-wrap:wrap;\n",
              "      gap: 12px;\n",
              "    }\n",
              "\n",
              "    .colab-df-convert {\n",
              "      background-color: #E8F0FE;\n",
              "      border: none;\n",
              "      border-radius: 50%;\n",
              "      cursor: pointer;\n",
              "      display: none;\n",
              "      fill: #1967D2;\n",
              "      height: 32px;\n",
              "      padding: 0 0 0 0;\n",
              "      width: 32px;\n",
              "    }\n",
              "\n",
              "    .colab-df-convert:hover {\n",
              "      background-color: #E2EBFA;\n",
              "      box-shadow: 0px 1px 2px rgba(60, 64, 67, 0.3), 0px 1px 3px 1px rgba(60, 64, 67, 0.15);\n",
              "      fill: #174EA6;\n",
              "    }\n",
              "\n",
              "    [theme=dark] .colab-df-convert {\n",
              "      background-color: #3B4455;\n",
              "      fill: #D2E3FC;\n",
              "    }\n",
              "\n",
              "    [theme=dark] .colab-df-convert:hover {\n",
              "      background-color: #434B5C;\n",
              "      box-shadow: 0px 1px 3px 1px rgba(0, 0, 0, 0.15);\n",
              "      filter: drop-shadow(0px 1px 2px rgba(0, 0, 0, 0.3));\n",
              "      fill: #FFFFFF;\n",
              "    }\n",
              "  </style>\n",
              "\n",
              "      <script>\n",
              "        const buttonEl =\n",
              "          document.querySelector('#df-c6787f6e-b22c-416a-805f-903c9d8e889f button.colab-df-convert');\n",
              "        buttonEl.style.display =\n",
              "          google.colab.kernel.accessAllowed ? 'block' : 'none';\n",
              "\n",
              "        async function convertToInteractive(key) {\n",
              "          const element = document.querySelector('#df-c6787f6e-b22c-416a-805f-903c9d8e889f');\n",
              "          const dataTable =\n",
              "            await google.colab.kernel.invokeFunction('convertToInteractive',\n",
              "                                                     [key], {});\n",
              "          if (!dataTable) return;\n",
              "\n",
              "          const docLinkHtml = 'Like what you see? Visit the ' +\n",
              "            '<a target=\"_blank\" href=https://colab.research.google.com/notebooks/data_table.ipynb>data table notebook</a>'\n",
              "            + ' to learn more about interactive tables.';\n",
              "          element.innerHTML = '';\n",
              "          dataTable['output_type'] = 'display_data';\n",
              "          await google.colab.output.renderOutput(dataTable, element);\n",
              "          const docLink = document.createElement('div');\n",
              "          docLink.innerHTML = docLinkHtml;\n",
              "          element.appendChild(docLink);\n",
              "        }\n",
              "      </script>\n",
              "    </div>\n",
              "  </div>\n",
              "  "
            ],
            "text/plain": [
              "                                               STORY  SECTION\n",
              "0  But the most painful was the huge reversal in ...        3\n",
              "1  How formidable is the opposition alliance amon...        0\n",
              "2  Most Asian currencies were trading lower today...        3\n",
              "3  If you want to answer any question, click on ...        1\n",
              "4  In global markets, gold prices edged up today ...        3"
            ]
          },
          "execution_count": 37,
          "metadata": {},
          "output_type": "execute_result"
        }
      ],
      "source": [
        "news.head()"
      ]
    },
    {
      "cell_type": "code",
      "execution_count": 38,
      "metadata": {
        "id": "nWtQe2RwQ29N"
      },
      "outputs": [],
      "source": [
        "from gensim.parsing.preprocessing import STOPWORDS\n",
        "from gensim.parsing.preprocessing import remove_stopwords\n",
        "custom_stopwords=set(STOPWORDS)\n",
        "to_add = [\"Im\", 'its']\n",
        "stops = [\"not\",\"doesn't\",\"didn't\",\"wouldn't\",\"shouldn't\",\"couldn't\"]\n",
        "custom_stopwords = list(custom_stopwords - set(stops) | set(to_add))\n"
      ]
    },
    {
      "cell_type": "code",
      "execution_count": 39,
      "metadata": {
        "id": "uPR6BzAeQ5iQ"
      },
      "outputs": [],
      "source": [
        "## lemmatization\n",
        "## https://gist.github.com/gaurav5430/9fce93759eb2f6b1697883c3782f30de#file-nltk-lemmatize-sentences-py\n",
        "import nltk\n",
        "from nltk.stem import WordNetLemmatizer\n",
        "from nltk.corpus import wordnet\n",
        "\n",
        "lemmatizer = WordNetLemmatizer()\n",
        "\n",
        "# function to convert nltk tag to wordnet tag\n",
        "def nltk_tag_to_wordnet_tag(nltk_tag):\n",
        "    if nltk_tag.startswith('J'):\n",
        "        return wordnet.ADJ\n",
        "    elif nltk_tag.startswith('V'):\n",
        "        return wordnet.VERB\n",
        "    elif nltk_tag.startswith('N'):\n",
        "        return wordnet.NOUN\n",
        "    elif nltk_tag.startswith('R'):\n",
        "        return wordnet.ADV\n",
        "    else:          \n",
        "        return None\n",
        "\n",
        "def lemmatize_sentence(sentence):\n",
        "    #tokenize the sentence and find the POS tag for each token\n",
        "    nltk_tagged = nltk.pos_tag(nltk.word_tokenize(sentence))  \n",
        "    #tuple of (token, wordnet_tag)\n",
        "    wordnet_tagged = map(lambda x: (x[0], nltk_tag_to_wordnet_tag(x[1])), nltk_tagged)\n",
        "    lemmatized_sentence = []\n",
        "    for word, tag in wordnet_tagged:\n",
        "        if tag is None:\n",
        "            #if there is no available tag, append the token as is\n",
        "            lemmatized_sentence.append(word)\n",
        "        else:        \n",
        "            #else use the tag to lemmatize the token\n",
        "            lemmatized_sentence.append(lemmatizer.lemmatize(word, tag))\n",
        "    return \" \".join(lemmatized_sentence)\n"
      ]
    },
    {
      "cell_type": "code",
      "execution_count": 40,
      "metadata": {
        "id": "_gYpmD16Q9Qk"
      },
      "outputs": [],
      "source": [
        "news2=news.reset_index()"
      ]
    },
    {
      "cell_type": "code",
      "execution_count": 41,
      "metadata": {
        "id": "_aby4ZhrRB2x"
      },
      "outputs": [],
      "source": [
        "import re\n",
        "#remove punctuations\n",
        "\n",
        "news2[\"cleaned_stories_punc\"]=news2[\"STORY\"].apply(lambda x: str(' '.join(re.findall(r'\\w+',str(nltk.word_tokenize(x))))))    \n",
        "\n",
        "\n",
        "\n",
        "#remove stopwords\n",
        "cleaned_stories_list=[]\n",
        "for story in news2[\"cleaned_stories_punc\"]:\n",
        "    #print(review)\n",
        "    words = nltk.word_tokenize(story)\n",
        "    #print(words)\n",
        "    new_words = []\n",
        "    for word in words:\n",
        "        if word.lower() in custom_stopwords:\n",
        "            continue\n",
        "        else:\n",
        "          new_words.append(word.lower())\n",
        "        cleaned_story = \" \".join(new_words)\n",
        "    cleaned_stories_list.append(cleaned_story)\n",
        "\n",
        "cleaned_stories= pd.Series(cleaned_stories_list)  \n",
        "\n",
        "news2[\"cleaned_stories_punc_stop\"]=cleaned_stories\n",
        "\n",
        "\n",
        "#lemmatize\n",
        "\n",
        "news2[\"cleaned_stories_lemm\"]=news2[\"cleaned_stories_punc_stop\"].apply(lambda x: lemmatize_sentence(x))\n"
      ]
    },
    {
      "cell_type": "code",
      "execution_count": 42,
      "metadata": {
        "id": "ljW5lXSkREaO"
      },
      "outputs": [],
      "source": [
        "trigram_vectorizer = TfidfVectorizer(ngram_range=(2,2),min_df=3,max_df=0.4)"
      ]
    },
    {
      "cell_type": "code",
      "execution_count": 43,
      "metadata": {
        "id": "CaT5LUiIRIM1"
      },
      "outputs": [],
      "source": [
        "news_tri, news_terms_tri  = trigram_vectorizer.fit_transform(news2.cleaned_stories_lemm.values.astype('U'))\\\n",
        "                                                                                 , trigram_vectorizer.get_feature_names_out()"
      ]
    },
    {
      "cell_type": "code",
      "execution_count": 44,
      "metadata": {
        "id": "JjH9AwhtRLg9"
      },
      "outputs": [],
      "source": [
        "X_news_tri_idf = pd.DataFrame(news_tri.toarray(), columns=news_terms_tri)"
      ]
    },
    {
      "cell_type": "code",
      "execution_count": 45,
      "metadata": {
        "colab": {
          "base_uri": "https://localhost:8080/"
        },
        "id": "7p7WzR0yROUQ",
        "outputId": "c0baf6c7-35d6-45dc-9dfa-d67137d7b43e"
      },
      "outputs": [
        {
          "name": "stdout",
          "output_type": "stream",
          "text": [
            "Original shape of X kindle is (7628, 21956)\n",
            "Decomposed W kindle matrix is (7628, 4)\n",
            "Decomposed H kindle matrix is (4, 21956)\n"
          ]
        }
      ],
      "source": [
        "nmf = NMF(n_components=4)\n",
        "W_news = nmf.fit_transform(X_news_tri_idf)\n",
        "H_news = nmf.components_\n",
        "print(f\"Original shape of X kindle is {X_news_tri_idf.shape}\")\n",
        "print(f\"Decomposed W kindle matrix is {W_news.shape}\")\n",
        "print(f\"Decomposed H kindle matrix is {H_news.shape}\")"
      ]
    },
    {
      "cell_type": "code",
      "execution_count": 46,
      "metadata": {
        "colab": {
          "base_uri": "https://localhost:8080/"
        },
        "id": "q4O9E7AWRSJk",
        "outputId": "6ce6e2b6-dd38-49cd-89ab-d5d344c18e09"
      },
      "outputs": [
        {
          "name": "stdout",
          "output_type": "stream",
          "text": [
            " News Categories:\n",
            "\n",
            "\n",
            "TOPIC 0\n",
            "\n",
            "\btext headline (6.7%)\n",
            "\n",
            "\bheadline change (6.7%)\n",
            "\n",
            "\bagency fee (6.7%)\n",
            "\n",
            "\bwire agency (6.7%)\n",
            "\n",
            "\bfee modification (6.7%)\n",
            "\n",
            "\bpublish wire (6.7%)\n",
            "\n",
            "\bmodification text (6.7%)\n",
            "\n",
            "\bstory publish (6.7%)\n",
            "\n",
            "\bsay story (0.5%)\n",
            "\n",
            "\badd story (0.4%)\n",
            "\n",
            "==================================================\n",
            "TOPIC 1\n",
            "\n",
            "\blok sabha (1.2%)\n",
            "\n",
            "\bprime minister (0.7%)\n",
            "\n",
            "\bnarendra modi (0.6%)\n",
            "\n",
            "\bsabha election (0.6%)\n",
            "\n",
            "\bminister narendra (0.5%)\n",
            "\n",
            "\bjanata party (0.5%)\n",
            "\n",
            "\bbharatiya janata (0.5%)\n",
            "\n",
            "\bchief minister (0.5%)\n",
            "\n",
            "\bparty bjp (0.4%)\n",
            "\n",
            "\bsabha seat (0.4%)\n",
            "\n",
            "==================================================\n",
            "TOPIC 2\n",
            "\n",
            "\bcurrency trade (3.6%)\n",
            "\n",
            "\bx92s strength (3.1%)\n",
            "\n",
            "\bmeasure currency (3.1%)\n",
            "\n",
            "\bindex measure (3.1%)\n",
            "\n",
            "\bmajor currency (3.1%)\n",
            "\n",
            "\bdollar index (3.0%)\n",
            "\n",
            "\bcurrency x92s (3.0%)\n",
            "\n",
            "\bprevious close (3.0%)\n",
            "\n",
            "\bstrength major (2.8%)\n",
            "\n",
            "\bclose 96 (2.2%)\n",
            "\n",
            "==================================================\n",
            "TOPIC 3\n",
            "\n",
            "\bnote pro (1.6%)\n",
            "\n",
            "\bredmi note (1.6%)\n",
            "\n",
            "\binternal storage (0.9%)\n",
            "\n",
            "\bram 64gb (0.6%)\n",
            "\n",
            "\b64gb internal (0.6%)\n",
            "\n",
            "\b6gb ram (0.6%)\n",
            "\n",
            "\b4gb ram (0.4%)\n",
            "\n",
            "\bqualcomm snapdragon (0.4%)\n",
            "\n",
            "\blcd display (0.4%)\n",
            "\n",
            "\bcamera setup (0.3%)\n",
            "\n",
            "==================================================\n"
          ]
        }
      ],
      "source": [
        "def get_top_tf_idf_tokens_for_topic(H: np.array, feature_names: List[str], num_top_tokens: int = 10):\n",
        "  \"\"\"\n",
        "  Uses the H matrix (K components x M original features) to identify for each\n",
        "  topic the most frequent tokens.\n",
        "  \"\"\"\n",
        "  for topic, vector in enumerate(H):\n",
        "    print(f\"TOPIC {topic}\\n\")\n",
        "    total = vector.sum()\n",
        "    top_scores = vector.argsort()[::-1][:num_top_tokens]\n",
        "    token_names = list(map(lambda idx: feature_names[idx], top_scores))\n",
        "    strengths = list(map(lambda idx: vector[idx] / total, top_scores))\n",
        "    \n",
        "    for strength, token_name in zip(strengths, token_names):\n",
        "      print(f\"\\b{token_name} ({round(strength * 100, 1)}%)\\n\")\n",
        "    print(f\"=\" * 50)\n",
        "\n",
        "print(f\" News Categories:\\n\\n\")\n",
        "get_top_tf_idf_tokens_for_topic(H_news, X_news_tri_idf.columns.tolist(), 10)"
      ]
    },
    {
      "cell_type": "markdown",
      "metadata": {
        "id": "WNCxJeNxRVxx"
      },
      "source": [
        "### The salient topics basis our topic modelling are:\n",
        "\n",
        "1) Media & Entertainment\n",
        "\n",
        "2) Politics\n",
        "\n",
        "3) Business\n",
        "\n",
        "4) Technology\n",
        "\n",
        "This more or less falls in line with the categories mentioned in the source dataset.\n"
      ]
    }
  ],
  "metadata": {
    "colab": {
      "collapsed_sections": [],
      "name": "HW 4 NLP.ipynb",
      "provenance": []
    },
    "kernelspec": {
      "display_name": "Python 3",
      "name": "python3"
    },
    "language_info": {
      "name": "python"
    }
  },
  "nbformat": 4,
  "nbformat_minor": 0
}
